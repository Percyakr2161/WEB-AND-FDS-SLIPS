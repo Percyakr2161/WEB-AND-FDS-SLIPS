{
 "cells": [
  {
   "cell_type": "code",
   "execution_count": 3,
   "id": "e2ea376a-f25d-42a4-a1f2-e4e63d8f7dee",
   "metadata": {},
   "outputs": [],
   "source": [
    "import pandas as pd\n",
    "import numpy as np\n",
    "import matplotlib.pyplot as plt\n",
    "import seaborn as sns\n",
    "from sklearn.preprocessing import MinMaxScaler, StandardScaler, Normalizer"
   ]
  },
  {
   "cell_type": "markdown",
   "id": "32c853cf-c91e-4486-8452-990c73894221",
   "metadata": {},
   "source": [
    "a. Rescaling: Normalised the dataset using MinMaxScaler class"
   ]
  },
  {
   "cell_type": "code",
   "execution_count": 4,
   "id": "c88720ed-6c57-4bdb-a78d-d31a950a98cd",
   "metadata": {},
   "outputs": [
    {
     "name": "stdout",
     "output_type": "stream",
     "text": [
      "Rescaled Data (MinMaxScaler):\n"
     ]
    },
    {
     "data": {
      "text/plain": [
       "array([[0.24778761, 0.39726027, 0.        , ..., 0.60629921, 0.13772455,\n",
       "        0.15384615],\n",
       "       [0.28318584, 0.52054795, 0.        , ..., 0.36220472, 0.20958084,\n",
       "        0.21538462],\n",
       "       [0.28318584, 0.43835616, 0.04      , ..., 0.40944882, 0.19161677,\n",
       "        0.21538462],\n",
       "       ...,\n",
       "       [0.15044248, 0.26712329, 0.13      , ..., 0.53543307, 0.25149701,\n",
       "        0.4       ],\n",
       "       [0.11504425, 0.35958904, 0.12      , ..., 0.65354331, 0.22754491,\n",
       "        0.27692308],\n",
       "       [0.12389381, 0.13013699, 0.47      , ..., 0.51181102, 0.19760479,\n",
       "        0.4       ]])"
      ]
     },
     "execution_count": 4,
     "metadata": {},
     "output_type": "execute_result"
    }
   ],
   "source": [
    "df = pd.read_csv('winequality-red.csv')\n",
    "\n",
    "X = df.drop(columns=['quality'])\n",
    "min_max_scaler = MinMaxScaler()\n",
    "X_rescaled = min_max_scaler.fit_transform(X)\n",
    "print(\"Rescaled Data (MinMaxScaler):\")\n",
    "X_rescaled"
   ]
  },
  {
   "cell_type": "markdown",
   "id": "51911f36-c581-417c-8254-946b74e49f78",
   "metadata": {},
   "source": [
    "b. Standardizing Data (transform them into a standard Gaussian distribution with a mean of 0 and\n",
    "a standard deviation of 1)"
   ]
  },
  {
   "cell_type": "code",
   "execution_count": 5,
   "id": "41ca911e-ddf3-4dab-b74a-01f591a70170",
   "metadata": {},
   "outputs": [
    {
     "name": "stdout",
     "output_type": "stream",
     "text": [
      "\n",
      "Standardized Data (StandardScaler):\n"
     ]
    },
    {
     "data": {
      "text/plain": [
       "array([[-0.52835961,  0.96187667, -1.39147228, ...,  1.28864292,\n",
       "        -0.57920652, -0.96024611],\n",
       "       [-0.29854743,  1.96744245, -1.39147228, ..., -0.7199333 ,\n",
       "         0.1289504 , -0.58477711],\n",
       "       [-0.29854743,  1.29706527, -1.18607043, ..., -0.33117661,\n",
       "        -0.04808883, -0.58477711],\n",
       "       ...,\n",
       "       [-1.1603431 , -0.09955388, -0.72391627, ...,  0.70550789,\n",
       "         0.54204194,  0.54162988],\n",
       "       [-1.39015528,  0.65462046, -0.77526673, ...,  1.6773996 ,\n",
       "         0.30598963, -0.20930812],\n",
       "       [-1.33270223, -1.21684919,  1.02199944, ...,  0.51112954,\n",
       "         0.01092425,  0.54162988]])"
      ]
     },
     "execution_count": 5,
     "metadata": {},
     "output_type": "execute_result"
    }
   ],
   "source": [
    "standard_scaler = StandardScaler()\n",
    "X_standardized = standard_scaler.fit_transform(X)\n",
    "\n",
    "print(\"\\nStandardized Data (StandardScaler):\")\n",
    "X_standardized"
   ]
  },
  {
   "cell_type": "markdown",
   "id": "df6fd5c8-f073-48a6-bc18-b89830078682",
   "metadata": {},
   "source": [
    "c. Normalizing Data ( rescale each observation to a length of 1 (a unit norm). For this, use the\n",
    "Normalizer class.)"
   ]
  },
  {
   "cell_type": "code",
   "execution_count": 6,
   "id": "d2232cc6-9c08-4926-93ae-6e5f1b576862",
   "metadata": {},
   "outputs": [
    {
     "name": "stdout",
     "output_type": "stream",
     "text": [
      "\n",
      "Normalized Data (Normalizer):\n"
     ]
    },
    {
     "data": {
      "text/plain": [
       "array([[0.19515252, 0.01846037, 0.        , ..., 0.09256559, 0.0147683 ,\n",
       "        0.24789644],\n",
       "       [0.10724124, 0.01209901, 0.        , ..., 0.04399641, 0.00934924,\n",
       "        0.134739  ],\n",
       "       [0.13545665, 0.01319834, 0.00069465, ..., 0.05661393, 0.01128805,\n",
       "        0.17018912],\n",
       "       ...,\n",
       "       [0.12306863, 0.0099627 , 0.00253951, ..., 0.06680869, 0.01465103,\n",
       "        0.21488174],\n",
       "       [0.10566885, 0.01155193, 0.0021492 , ..., 0.06393861, 0.01271608,\n",
       "        0.18268174],\n",
       "       [0.12589937, 0.0065048 , 0.00986212, ..., 0.07113314, 0.01384893,\n",
       "        0.2308155 ]])"
      ]
     },
     "execution_count": 6,
     "metadata": {},
     "output_type": "execute_result"
    }
   ],
   "source": [
    "normalizer = Normalizer()\n",
    "X_normalized = normalizer.fit_transform(X)\n",
    "\n",
    "print(\"\\nNormalized Data (Normalizer):\")\n",
    "X_normalized"
   ]
  },
  {
   "cell_type": "code",
   "execution_count": null,
   "id": "81c4d009-0972-4d4a-b6b2-415130c698ae",
   "metadata": {},
   "outputs": [],
   "source": []
  }
 ],
 "metadata": {
  "kernelspec": {
   "display_name": "Python 3 (ipykernel)",
   "language": "python",
   "name": "python3"
  },
  "language_info": {
   "codemirror_mode": {
    "name": "ipython",
    "version": 3
   },
   "file_extension": ".py",
   "mimetype": "text/x-python",
   "name": "python",
   "nbconvert_exporter": "python",
   "pygments_lexer": "ipython3",
   "version": "3.10.4"
  }
 },
 "nbformat": 4,
 "nbformat_minor": 5
}
